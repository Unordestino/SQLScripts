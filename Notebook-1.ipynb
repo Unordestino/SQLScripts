{
    "metadata": {
        "kernelspec": {
            "name": "SQL",
            "display_name": "SQL",
            "language": "sql"
        },
        "language_info": {
            "name": "sql",
            "version": ""
        }
    },
    "nbformat_minor": 2,
    "nbformat": 4,
    "cells": [
        {
            "cell_type": "markdown",
            "source": [
                "# **Teste**"
            ],
            "metadata": {
                "azdata_cell_guid": "2ce2549d-0411-4163-97be-24c0ee030a21"
            },
            "attachments": {}
        },
        {
            "cell_type": "code",
            "source": [
                "select @@version"
            ],
            "metadata": {
                "azdata_cell_guid": "404421ae-dad5-4ef5-b48b-ab738cf0b773",
                "language": "sql",
                "tags": [
                    "parameters"
                ]
            },
            "outputs": [
                {
                    "output_type": "display_data",
                    "data": {
                        "text/html": "(1 row affected)"
                    },
                    "metadata": {}
                },
                {
                    "output_type": "display_data",
                    "data": {
                        "text/html": "Total execution time: 00:00:00.002"
                    },
                    "metadata": {}
                },
                {
                    "output_type": "execute_result",
                    "metadata": {},
                    "execution_count": 1,
                    "data": {
                        "application/vnd.dataresource+json": {
                            "schema": {
                                "fields": [
                                    {
                                        "name": "(No column name)"
                                    }
                                ]
                            },
                            "data": [
                                {
                                    "0": "Microsoft SQL Server 2022 (RTM) - 16.0.1000.6 (X64) \n\tOct  8 2022 05:58:25 \n\tCopyright (C) 2022 Microsoft Corporation\n\tDeveloper Edition (64-bit) on Windows Server 2022 Standard Evaluation 10.0 <X64> (Build 20348: )\n"
                                }
                            ]
                        },
                        "text/html": [
                            "<table>",
                            "<tr><th>(No column name)</th></tr>",
                            "<tr><td>Microsoft SQL Server 2022 (RTM) - 16.0.1000.6 (X64) \n\tOct  8 2022 05:58:25 \n\tCopyright (C) 2022 Microsoft Corporation\n\tDeveloper Edition (64-bit) on Windows Server 2022 Standard Evaluation 10.0 &lt;X64&gt; (Build 20348: )\n</td></tr>",
                            "</table>"
                        ]
                    }
                }
            ],
            "execution_count": 1
        },
        {
            "cell_type": "code",
            "source": [
                "select * from [Person].[ContactType]"
            ],
            "metadata": {
                "azdata_cell_guid": "1810e59f-930b-4627-8507-bafea4e1ed03",
                "language": "sql"
            },
            "outputs": [
                {
                    "output_type": "display_data",
                    "data": {
                        "text/html": "(20 rows affected)"
                    },
                    "metadata": {}
                },
                {
                    "output_type": "display_data",
                    "data": {
                        "text/html": "Total execution time: 00:00:00.004"
                    },
                    "metadata": {}
                },
                {
                    "output_type": "execute_result",
                    "execution_count": 10,
                    "data": {
                        "application/vnd.dataresource+json": {
                            "schema": {
                                "fields": [
                                    {
                                        "name": "ContactTypeID"
                                    },
                                    {
                                        "name": "Name"
                                    },
                                    {
                                        "name": "ModifiedDate"
                                    }
                                ]
                            },
                            "data": [
                                {
                                    "0": "1",
                                    "1": "Accounting Manager",
                                    "2": "2002-06-01 00:00:00.000"
                                },
                                {
                                    "0": "2",
                                    "1": "Assistant Sales Agent",
                                    "2": "2002-06-01 00:00:00.000"
                                },
                                {
                                    "0": "3",
                                    "1": "Assistant Sales Representative",
                                    "2": "2002-06-01 00:00:00.000"
                                },
                                {
                                    "0": "4",
                                    "1": "Coordinator Foreign Markets",
                                    "2": "2002-06-01 00:00:00.000"
                                },
                                {
                                    "0": "5",
                                    "1": "Export Administrator",
                                    "2": "2002-06-01 00:00:00.000"
                                },
                                {
                                    "0": "6",
                                    "1": "International Marketing Manager",
                                    "2": "2002-06-01 00:00:00.000"
                                },
                                {
                                    "0": "7",
                                    "1": "Marketing Assistant",
                                    "2": "2002-06-01 00:00:00.000"
                                },
                                {
                                    "0": "8",
                                    "1": "Marketing Manager",
                                    "2": "2002-06-01 00:00:00.000"
                                },
                                {
                                    "0": "9",
                                    "1": "Marketing Representative",
                                    "2": "2002-06-01 00:00:00.000"
                                },
                                {
                                    "0": "10",
                                    "1": "Order Administrator",
                                    "2": "2002-06-01 00:00:00.000"
                                },
                                {
                                    "0": "11",
                                    "1": "Owner",
                                    "2": "2002-06-01 00:00:00.000"
                                },
                                {
                                    "0": "12",
                                    "1": "Owner/Marketing Assistant",
                                    "2": "2002-06-01 00:00:00.000"
                                },
                                {
                                    "0": "13",
                                    "1": "Product Manager",
                                    "2": "2002-06-01 00:00:00.000"
                                },
                                {
                                    "0": "14",
                                    "1": "Purchasing Agent",
                                    "2": "2002-06-01 00:00:00.000"
                                },
                                {
                                    "0": "15",
                                    "1": "Purchasing Manager",
                                    "2": "2002-06-01 00:00:00.000"
                                },
                                {
                                    "0": "16",
                                    "1": "Regional Account Representative",
                                    "2": "2002-06-01 00:00:00.000"
                                },
                                {
                                    "0": "17",
                                    "1": "Sales Agent",
                                    "2": "2002-06-01 00:00:00.000"
                                },
                                {
                                    "0": "18",
                                    "1": "Sales Associate",
                                    "2": "2002-06-01 00:00:00.000"
                                },
                                {
                                    "0": "19",
                                    "1": "Sales Manager",
                                    "2": "2002-06-01 00:00:00.000"
                                },
                                {
                                    "0": "20",
                                    "1": "Sales Representative",
                                    "2": "2002-06-01 00:00:00.000"
                                }
                            ]
                        },
                        "text/html": "<table><tr><th>ContactTypeID</th><th>Name</th><th>ModifiedDate</th></tr><tr><td>1</td><td>Accounting Manager</td><td>2002-06-01 00:00:00.000</td></tr><tr><td>2</td><td>Assistant Sales Agent</td><td>2002-06-01 00:00:00.000</td></tr><tr><td>3</td><td>Assistant Sales Representative</td><td>2002-06-01 00:00:00.000</td></tr><tr><td>4</td><td>Coordinator Foreign Markets</td><td>2002-06-01 00:00:00.000</td></tr><tr><td>5</td><td>Export Administrator</td><td>2002-06-01 00:00:00.000</td></tr><tr><td>6</td><td>International Marketing Manager</td><td>2002-06-01 00:00:00.000</td></tr><tr><td>7</td><td>Marketing Assistant</td><td>2002-06-01 00:00:00.000</td></tr><tr><td>8</td><td>Marketing Manager</td><td>2002-06-01 00:00:00.000</td></tr><tr><td>9</td><td>Marketing Representative</td><td>2002-06-01 00:00:00.000</td></tr><tr><td>10</td><td>Order Administrator</td><td>2002-06-01 00:00:00.000</td></tr><tr><td>11</td><td>Owner</td><td>2002-06-01 00:00:00.000</td></tr><tr><td>12</td><td>Owner/Marketing Assistant</td><td>2002-06-01 00:00:00.000</td></tr><tr><td>13</td><td>Product Manager</td><td>2002-06-01 00:00:00.000</td></tr><tr><td>14</td><td>Purchasing Agent</td><td>2002-06-01 00:00:00.000</td></tr><tr><td>15</td><td>Purchasing Manager</td><td>2002-06-01 00:00:00.000</td></tr><tr><td>16</td><td>Regional Account Representative</td><td>2002-06-01 00:00:00.000</td></tr><tr><td>17</td><td>Sales Agent</td><td>2002-06-01 00:00:00.000</td></tr><tr><td>18</td><td>Sales Associate</td><td>2002-06-01 00:00:00.000</td></tr><tr><td>19</td><td>Sales Manager</td><td>2002-06-01 00:00:00.000</td></tr><tr><td>20</td><td>Sales Representative</td><td>2002-06-01 00:00:00.000</td></tr></table>"
                    },
                    "metadata": {}
                }
            ],
            "execution_count": 10
        }
    ]
}